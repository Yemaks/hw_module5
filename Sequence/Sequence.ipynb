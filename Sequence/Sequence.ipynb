{
  "cells": [
    {
      "cell_type": "markdown",
      "metadata": {
        "id": "HPeHP1o34XOS"
      },
      "source": [
        "##### Генерируются последовательности, которые состоят из цифр (от 0 до 9) и задаются следующим образом:\n",
        "##### $x$ - последовательность случайных цифр\n",
        "##### $y_1 = x_1$\n",
        "##### $y_i = x_i + x_1$\n",
        "##### Если $y >= 10,$ то $y_i = y_i - 10$\n",
        "##### Модель рекуррентной нейронной сети предсказвает $y_i$ по $x_i$.\n",
        "##### Используются: $RNN,$ $LSTM,$ $GRU$"
      ]
    },
    {
      "cell_type": "code",
      "execution_count": null,
      "metadata": {
        "id": "lPacUjneYeTU"
      },
      "outputs": [],
      "source": [
        "from io import open\n",
        "import re\n",
        "import torch\n",
        "import time\n",
        "import numpy as np\n",
        "import torch\n",
        "from torch.utils.data import TensorDataset, DataLoader\n",
        "from torch import nn\n",
        "\n",
        "import warnings\n",
        "warnings.filterwarnings(\"ignore\")\n",
        "device = torch.device(\"cuda\" if torch.cuda.is_available() else \"cpu\")"
      ]
    },
    {
      "cell_type": "code",
      "execution_count": null,
      "metadata": {
        "id": "qkOOe7FTYeTY"
      },
      "outputs": [],
      "source": [
        "LENGTH_SEQUENCE = 10\n",
        "LEARNING_RATE = 0.7\n",
        "NUM_EPOCHS = 60\n",
        "BATCH_SIZE = 512\n",
        "INPUT_DIM = 10"
      ]
    },
    {
      "cell_type": "markdown",
      "metadata": {},
      "source": [
        "##### Генерируем одно наблюдение $x$ и $y$ длины LENGTH_SEQUENCE"
      ]
    },
    {
      "cell_type": "code",
      "execution_count": null,
      "metadata": {
        "id": "fK23BlJ3YeTZ"
      },
      "outputs": [],
      "source": [
        "def generate_sequences(length = LENGTH_SEQUENCE):\n",
        "    x = torch.randint(0, 10, (length,))\n",
        "\n",
        "    y = torch.cat((x[0].unsqueeze(dim=0), torch.add(x[0], x[1:])))\n",
        "\n",
        "    for i in y:\n",
        "        if i >= 10:\n",
        "            i -= 10\n",
        "\n",
        "    return x.unsqueeze(dim=0), y.unsqueeze(dim=0)"
      ]
    },
    {
      "cell_type": "markdown",
      "metadata": {},
      "source": [
        "##### Создаем тренировочный, тестовый и валидационный датасет"
      ]
    },
    {
      "cell_type": "code",
      "execution_count": null,
      "metadata": {
        "id": "nZAafTJnYeTZ"
      },
      "outputs": [],
      "source": [
        "def create_dataset(number_sequences = 10_000, length_sequence = LENGTH_SEQUENCE, test_size = 0.2, val_size = 0.1, BATCH_SIZE = BATCH_SIZE):\n",
        "    x_train, y_train = generate_sequences(length_sequence)\n",
        "    for _ in range(number_sequences - 1):\n",
        "        x, y = generate_sequences(length_sequence)\n",
        "        x_train = torch.cat((x_train, x))\n",
        "        y_train = torch.cat((y_train, y))\n",
        "\n",
        "    x_test, y_test = generate_sequences(length_sequence)\n",
        "    for _ in range(round(number_sequences * test_size) - 1):\n",
        "        x, y = generate_sequences(length_sequence)\n",
        "        x_test = torch.cat((x_test, x))\n",
        "        y_test = torch.cat((y_test, y))\n",
        "\n",
        "    x_val, y_val = generate_sequences(length_sequence)\n",
        "    for _ in range(round(number_sequences * val_size) - 1):\n",
        "        x, y = generate_sequences(length_sequence)\n",
        "        x_val = torch.cat((x_val, x))\n",
        "        y_val = torch.cat((y_val, y))\n",
        "\n",
        "    train_dataset = TensorDataset(x_train, y_train)\n",
        "    test_dataset = TensorDataset(x_test, y_test)\n",
        "    val_dataset = TensorDataset(x_val, y_val)\n",
        "\n",
        "    train = DataLoader(train_dataset, batch_size=BATCH_SIZE, shuffle=True)\n",
        "    test = DataLoader(test_dataset, batch_size=BATCH_SIZE, shuffle=True)\n",
        "    val = DataLoader(val_dataset, batch_size=BATCH_SIZE, shuffle=True)\n",
        "\n",
        "    return train, test, val"
      ]
    },
    {
      "cell_type": "code",
      "execution_count": null,
      "metadata": {
        "id": "oo4kLD8gYeTa"
      },
      "outputs": [],
      "source": [
        "class Model(torch.nn.Module):\n",
        "\n",
        "    def __init__(self, model, embed_dim, hidden_dim, layer_dim):\n",
        "        super().__init__()\n",
        "        self.embed = nn.Embedding(INPUT_DIM, embed_dim)\n",
        "        self.model = model(embed_dim, hidden_dim, layer_dim, batch_first=True)\n",
        "        self.linear = nn.Linear(hidden_dim, INPUT_DIM)\n",
        "\n",
        "    def forward(self, sentence, state=None):\n",
        "        embed = self.embed(sentence)\n",
        "        o, _ = self.model(embed)\n",
        "        return self.linear(o)"
      ]
    },
    {
      "cell_type": "code",
      "execution_count": null,
      "metadata": {
        "id": "yyOhkmi_YeTa"
      },
      "outputs": [],
      "source": [
        "class Training(object):\n",
        "    def __init__(self, model, loss_fn, optimizer):\n",
        "        self.model = model\n",
        "        self.loss_fn = loss_fn\n",
        "        self.optimizer = optimizer\n",
        "\n",
        "    def train(self, train, test):\n",
        "        for epoch in range(1, NUM_EPOCHS + 1):\n",
        "            train_loss, train_accuracy, iter_num = .0, .0, .0\n",
        "            start_epoch_time = time.time()\n",
        "            self.model.train().to(device)\n",
        "            for x, y in train:\n",
        "                x = x.to(device)\n",
        "                y = y.view(1, -1).squeeze().to(device)\n",
        "\n",
        "                self.optimizer.zero_grad()\n",
        "\n",
        "                out = self.model.forward(x).view(-1, INPUT_DIM)\n",
        "\n",
        "                loss = self.loss_fn(out, y)\n",
        "                train_loss += loss.item()\n",
        "\n",
        "                batch_accuracy = (out.argmax(dim=1) == y)\n",
        "                train_accuracy += batch_accuracy.sum().item() / batch_accuracy.shape[0]\n",
        "\n",
        "                loss.backward()\n",
        "                self.optimizer.step()\n",
        "                iter_num += 1\n",
        "            if (epoch < 2) | (epoch % 10 == 0):\n",
        "                print(f\"Epoch: {epoch}, loss: {train_loss:.4f}, acc: \" f\"{train_accuracy / iter_num:.4f}\", end=\" | \")\n",
        "\n",
        "            test_loss, test_accuracy, iter_num = .0, .0, .0\n",
        "            self.model.eval().to(device)\n",
        "            for x, y in test:\n",
        "                x = x.to(device)\n",
        "                y = y.view(1, -1).squeeze().to(device)\n",
        "\n",
        "                out = self.model.forward(x).view(-1, INPUT_DIM)\n",
        "\n",
        "                loss = self.loss_fn(out, y)\n",
        "                test_loss += loss.item()\n",
        "\n",
        "                batch_accuracy = (out.argmax(dim=1) == y)\n",
        "                test_accuracy += batch_accuracy.sum().item() / batch_accuracy.shape[0]\n",
        "                iter_num += 1\n",
        "            if (epoch < 2) | (epoch % 10 == 0):\n",
        "                print(f\"test loss: {test_loss:.4f}, test acc: {test_accuracy / iter_num:.4f} | \" f\"{time.time() - start_epoch_time:.2f} sec.\")"
      ]
    },
    {
      "cell_type": "code",
      "execution_count": null,
      "metadata": {
        "id": "wXAaC-0qYeTb"
      },
      "outputs": [],
      "source": [
        "train, test, val = create_dataset()"
      ]
    },
    {
      "cell_type": "code",
      "execution_count": null,
      "metadata": {
        "id": "OImv5cnZwGU0"
      },
      "outputs": [],
      "source": [
        "models = {\n",
        "        \"RNN\": [nn.RNN, 32, 128, 5],\n",
        "        \"LSTM\": [nn.LSTM, 32, 64, 1],\n",
        "        \"GRU\": [nn.GRU, 32, 64, 1]\n",
        "        }\n",
        "loss_fn = nn.CrossEntropyLoss()"
      ]
    },
    {
      "cell_type": "code",
      "execution_count": null,
      "metadata": {
        "colab": {
          "base_uri": "https://localhost:8080/"
        },
        "id": "OcZaMxKCYeTc",
        "outputId": "5794c24f-21c9-4338-c03b-150dace86c64"
      },
      "outputs": [
        {
          "name": "stdout",
          "output_type": "stream",
          "text": [
            "Epoch: 1, loss: 46.0156, acc: 0.1193 | test loss: 9.1884, test acc: 0.1522 | 0.29 sec.\n",
            "Epoch: 10, loss: 39.6197, acc: 0.2546 | test loss: 7.8447, test acc: 0.2487 | 0.18 sec.\n",
            "Epoch: 20, loss: 14.3955, acc: 0.7417 | test loss: 2.3295, test acc: 0.7922 | 0.19 sec.\n",
            "Epoch: 30, loss: 0.0523, acc: 1.0000 | test loss: 0.0101, test acc: 1.0000 | 0.19 sec.\n",
            "Epoch: 40, loss: 0.0224, acc: 1.0000 | test loss: 0.0045, test acc: 1.0000 | 0.25 sec.\n",
            "Epoch: 50, loss: 0.0140, acc: 1.0000 | test loss: 0.0028, test acc: 1.0000 | 0.17 sec.\n",
            "Epoch: 60, loss: 0.0100, acc: 1.0000 | test loss: 0.0020, test acc: 1.0000 | 0.19 sec.\n"
          ]
        }
      ],
      "source": [
        "model = Model(*models[\"RNN\"])\n",
        "\n",
        "optimizer = torch.optim.SGD(model.parameters(), lr=LEARNING_RATE)\n",
        "training = Training(model, loss_fn, optimizer)\n",
        "training.train(train, test)"
      ]
    },
    {
      "cell_type": "code",
      "execution_count": null,
      "metadata": {
        "colab": {
          "base_uri": "https://localhost:8080/"
        },
        "id": "bc6KdHwgwVU1",
        "outputId": "146275d7-4158-426c-b405-f4c3a3b08f44"
      },
      "outputs": [
        {
          "name": "stdout",
          "output_type": "stream",
          "text": [
            "Epoch: 1, loss: 46.0137, acc: 0.1219 | test loss: 9.1825, test acc: 0.1478 | 0.13 sec.\n",
            "Epoch: 10, loss: 45.2999, acc: 0.1883 | test loss: 9.0704, test acc: 0.1804 | 0.14 sec.\n",
            "Epoch: 20, loss: 42.6239, acc: 0.2264 | test loss: 8.4702, test acc: 0.2324 | 0.15 sec.\n",
            "Epoch: 30, loss: 16.9334, acc: 0.6691 | test loss: 3.1767, test acc: 0.7007 | 0.15 sec.\n",
            "Epoch: 40, loss: 2.0482, acc: 0.9996 | test loss: 0.3750, test acc: 0.9999 | 0.16 sec.\n",
            "Epoch: 50, loss: 0.6257, acc: 1.0000 | test loss: 0.1225, test acc: 1.0000 | 0.21 sec.\n",
            "Epoch: 60, loss: 0.3425, acc: 1.0000 | test loss: 0.0685, test acc: 0.9999 | 0.15 sec.\n"
          ]
        }
      ],
      "source": [
        "model = Model(*models[\"LSTM\"])\n",
        "\n",
        "optimizer = torch.optim.SGD(model.parameters(), lr=LEARNING_RATE)\n",
        "training = Training(model, loss_fn, optimizer)\n",
        "training.train(train, test)"
      ]
    },
    {
      "cell_type": "code",
      "execution_count": null,
      "metadata": {
        "colab": {
          "base_uri": "https://localhost:8080/"
        },
        "id": "I2S43-T1wVt_",
        "outputId": "b196a5ce-221f-4f6b-b924-2b672cfb20f8"
      },
      "outputs": [
        {
          "name": "stdout",
          "output_type": "stream",
          "text": [
            "Epoch: 1, loss: 45.8506, acc: 0.1580 | test loss: 9.1341, test acc: 0.1802 | 0.15 sec.\n",
            "Epoch: 10, loss: 44.9171, acc: 0.1874 | test loss: 8.9799, test acc: 0.1805 | 0.15 sec.\n",
            "Epoch: 20, loss: 39.4514, acc: 0.2593 | test loss: 7.9009, test acc: 0.2558 | 0.14 sec.\n",
            "Epoch: 30, loss: 4.6539, acc: 0.9977 | test loss: 0.7804, test acc: 0.9984 | 0.15 sec.\n",
            "Epoch: 40, loss: 0.7407, acc: 1.0000 | test loss: 0.1430, test acc: 1.0000 | 0.14 sec.\n",
            "Epoch: 50, loss: 0.3486, acc: 1.0000 | test loss: 0.0691, test acc: 1.0000 | 0.16 sec.\n",
            "Epoch: 60, loss: 0.2182, acc: 1.0000 | test loss: 0.0438, test acc: 1.0000 | 0.14 sec.\n"
          ]
        }
      ],
      "source": [
        "model = Model(*models[\"GRU\"])\n",
        "\n",
        "optimizer = torch.optim.SGD(model.parameters(), lr=LEARNING_RATE)\n",
        "training = Training(model, loss_fn, optimizer)\n",
        "training.train(train, test)"
      ]
    },
    {
      "cell_type": "code",
      "execution_count": null,
      "metadata": {
        "colab": {
          "base_uri": "https://localhost:8080/"
        },
        "id": "cHdkgRhbYeTd",
        "outputId": "b37e07c8-018c-4a27-b918-96ee60126140"
      },
      "outputs": [
        {
          "name": "stdout",
          "output_type": "stream",
          "text": [
            "Original sentence is : tensor([[3, 8, 1, 8, 6, 7, 7, 7, 1, 2]], device='cuda:0')\n",
            "----------------------------------------------------------------------------------------------------\n",
            "Encrypted sentence is : tensor([[3, 1, 4, 1, 9, 0, 0, 0, 4, 5]], device='cuda:0')\n",
            "----------------------------------------------------------------------------------------------------\n",
            "Predicted sentence is : tensor([3, 1, 4, 1, 9, 0, 0, 0, 4, 5], device='cuda:0')\n"
          ]
        }
      ],
      "source": [
        "x, y = generate_sequences()\n",
        "\n",
        "x = x.to(device)\n",
        "y = y.to(device)\n",
        "out = model.forward(x).view(-1, INPUT_DIM).argmax(dim=1)\n",
        "\n",
        "print(f\"Original sentence is : {x}\")\n",
        "print(\"-\" * 100)\n",
        "print(f\"Encrypted sentence is : {y}\")\n",
        "print(\"-\" * 100)\n",
        "print(f\"Predicted sentence is : {out}\")"
      ]
    },
    {
      "cell_type": "code",
      "execution_count": null,
      "metadata": {
        "id": "Ol4syiPrcQqB"
      },
      "outputs": [],
      "source": []
    }
  ],
  "metadata": {
    "accelerator": "GPU",
    "colab": {
      "gpuType": "T4",
      "provenance": []
    },
    "kernelspec": {
      "display_name": "Python 3",
      "name": "python3"
    },
    "language_info": {
      "codemirror_mode": {
        "name": "ipython",
        "version": 3
      },
      "file_extension": ".py",
      "mimetype": "text/x-python",
      "name": "python",
      "nbconvert_exporter": "python",
      "pygments_lexer": "ipython3",
      "version": "3.11.4"
    },
    "orig_nbformat": 4
  },
  "nbformat": 4,
  "nbformat_minor": 0
}
