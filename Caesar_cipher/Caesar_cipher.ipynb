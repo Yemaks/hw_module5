{
  "cells": [
    {
      "cell_type": "markdown",
      "source": [
        "##### Обучена простая рекуррентная нейронную сеть (без GRU/LSTM, без внимания) решающая задачу дешифровки шифра Цезаря:\n",
        "##### Написан алгоритм шифра Цезаря для генерации выборки (сдвиг на CAESAR_SHIFT каждой буквы), для латиницы."
      ],
      "metadata": {
        "id": "zMSrKeyCq34F"
      }
    },
    {
      "cell_type": "code",
      "execution_count": 12,
      "metadata": {
        "id": "tOlAeusX7mpV"
      },
      "outputs": [],
      "source": [
        "from io import open\n",
        "import re\n",
        "import torch\n",
        "import time\n",
        "import numpy as np\n",
        "import torch\n",
        "from torch.utils.data import TensorDataset, DataLoader\n",
        "from torch import nn\n",
        "\n",
        "import warnings\n",
        "warnings.filterwarnings(\"ignore\")\n",
        "device = torch.device(\"cuda\" if torch.cuda.is_available() else \"cpu\")"
      ]
    },
    {
      "cell_type": "code",
      "execution_count": 13,
      "metadata": {
        "id": "49t9pLai7mpZ"
      },
      "outputs": [],
      "source": [
        "CAESAR_SHIFT = 4\n",
        "LEARNING_RATE = 0.5\n",
        "NUM_EPOCHS = 30\n",
        "BATCH_SIZE = 512"
      ]
    },
    {
      "cell_type": "markdown",
      "source": [
        "##### Читаем текст из файла и делаем препроцессинг: переводим все в нижний регистр и все небуквенные символы заменяем пробелами."
      ],
      "metadata": {
        "id": "sRwZEWeur3RJ"
      }
    },
    {
      "cell_type": "code",
      "execution_count": 14,
      "metadata": {
        "id": "O9GO4UOx7mpa"
      },
      "outputs": [],
      "source": [
        "def reading_and_preprocessing(text_path):\n",
        "    with open(text_path, encoding='utf-8') as txt_file:\n",
        "        text = txt_file.read().lower()\n",
        "    text = re.sub('[^a-z ]', ' ', text)\n",
        "    text = re.sub('\\s+', ' ', text)\n",
        "    txt_file.close()\n",
        "    return text"
      ]
    },
    {
      "cell_type": "markdown",
      "source": [
        "##### Шифрует текст с заданным сдвигом."
      ],
      "metadata": {
        "id": "BElSVTnBsXck"
      }
    },
    {
      "cell_type": "code",
      "execution_count": 15,
      "metadata": {
        "id": "4YtWe7ai7mpa"
      },
      "outputs": [],
      "source": [
        "def encryption(text, shift = CAESAR_SHIFT):\n",
        "    alphabet_lower = 'abcdefghijklmnopqrstuvwxyz'\n",
        "    cipher = \"\"\n",
        "    for letter in text:\n",
        "        if letter in alphabet_lower:\n",
        "            position = alphabet_lower.index(letter)\n",
        "            new_position = (position + shift) % 26\n",
        "            letter = alphabet_lower[new_position]\n",
        "            cipher += letter\n",
        "        else:\n",
        "            cipher += letter\n",
        "    return cipher"
      ]
    },
    {
      "cell_type": "markdown",
      "source": [
        "##### Дает на выходе список символов и словарь для данного набора символов."
      ],
      "metadata": {
        "id": "h22isPfUsjG6"
      }
    },
    {
      "cell_type": "code",
      "execution_count": 16,
      "metadata": {
        "id": "ZvPiteek7mpb"
      },
      "outputs": [],
      "source": [
        "def indexing_chars(text):\n",
        "    INDEX_TO_CHAR = sorted(list(set(text)))\n",
        "    CHAR_TO_INDEX = {c: i for i, c in enumerate(INDEX_TO_CHAR)}\n",
        "    return INDEX_TO_CHAR, CHAR_TO_INDEX"
      ]
    },
    {
      "cell_type": "markdown",
      "source": [
        "##### Переводит символы в индексы."
      ],
      "metadata": {
        "id": "K-Vu2Zh4srGb"
      }
    },
    {
      "cell_type": "code",
      "execution_count": 17,
      "metadata": {
        "id": "81cyHGxY7mpb"
      },
      "outputs": [],
      "source": [
        "def char_to_index(text):\n",
        "    indexes = torch.zeros((len(text)), dtype=int)\n",
        "    _, CHAR_TO_INDEX = indexing_chars(text)\n",
        "    for c, char in enumerate(text):\n",
        "        indexes[c] = CHAR_TO_INDEX[char]\n",
        "    return indexes"
      ]
    },
    {
      "cell_type": "markdown",
      "source": [
        "##### Переводит индексы в символы по данному алфавиту."
      ],
      "metadata": {
        "id": "Dt6T2JVOs0pL"
      }
    },
    {
      "cell_type": "code",
      "execution_count": 18,
      "metadata": {
        "id": "KkB4KDoR7mpb"
      },
      "outputs": [],
      "source": [
        "def index_to_char(indexes, alphabet):\n",
        "    sentence = \"\".join(sorted(list(set(alphabet)))[i] for i in indexes.flatten())\n",
        "    return sentence"
      ]
    },
    {
      "cell_type": "markdown",
      "source": [
        "##### Формируем из сплошного текста датасет."
      ],
      "metadata": {
        "id": "nscfNLYQs6l5"
      }
    },
    {
      "cell_type": "code",
      "execution_count": 19,
      "metadata": {
        "id": "vC9RVUvZ7mpc"
      },
      "outputs": [],
      "source": [
        "def create_dataset(text, length = 40, step = 20, shift = CAESAR_SHIFT, BATCH_SIZE = BATCH_SIZE, test_size = 0.2):\n",
        "    sentences = []\n",
        "    encrypted_sentences = []\n",
        "\n",
        "    for i in range(0, len(text) - length, step):\n",
        "        sentences.append(text[i: i + length])\n",
        "        encrypted_sentences.append(encryption(text[i: i + length], shift))\n",
        "\n",
        "    X = torch.zeros((len(sentences), length), dtype=int)\n",
        "    Y = torch.zeros((len(sentences), length), dtype=int)\n",
        "\n",
        "    for i, sent in enumerate(encrypted_sentences):\n",
        "        for c, char in enumerate(sent):\n",
        "            X[i, c] = CHAR_TO_INDEX[char]\n",
        "\n",
        "    for i, sent in enumerate(sentences):\n",
        "        for c, char in enumerate(sent):\n",
        "            Y[i, c] = CHAR_TO_INDEX[char]\n",
        "\n",
        "    percent = round(len(sentences) * test_size)\n",
        "\n",
        "    X_train = X[percent:, :]\n",
        "    X_test = X[:percent, :]\n",
        "    Y_train = Y[percent:, :]\n",
        "    Y_test = Y[:percent, :]\n",
        "\n",
        "    dataset_train = TensorDataset(X_train, Y_train)\n",
        "    train = DataLoader(dataset_train, BATCH_SIZE, shuffle=True)\n",
        "\n",
        "    dataset_test = TensorDataset(X_test, Y_test)\n",
        "    test = DataLoader(dataset_test, BATCH_SIZE, shuffle=True)\n",
        "\n",
        "    return train, test"
      ]
    },
    {
      "cell_type": "code",
      "execution_count": 20,
      "metadata": {
        "id": "ul9Hwv6B7mpd"
      },
      "outputs": [],
      "source": [
        "class RNN_Model(torch.nn.Module):\n",
        "\n",
        "    def __init__(self):\n",
        "        super().__init__()\n",
        "        self.embed = nn.Embedding(len(set(text)), 32)\n",
        "        self.rnn = nn.RNN(32, 128, batch_first=True)\n",
        "        self.linear = nn.Linear(128, len(set(text)))\n",
        "\n",
        "    def forward(self, sentence, state=None):\n",
        "        embed = self.embed(sentence)\n",
        "        o, h = self.rnn(embed)\n",
        "        return self.linear(o)"
      ]
    },
    {
      "cell_type": "code",
      "execution_count": 21,
      "metadata": {
        "id": "NDpMHiGX7mpd"
      },
      "outputs": [],
      "source": [
        "class Training(object):\n",
        "    def __init__(self, model, loss_fn, optimizer):\n",
        "        self.model = model\n",
        "        self.loss_fn = loss_fn\n",
        "        self.optimizer = optimizer\n",
        "\n",
        "    def train(self, train, test):\n",
        "        for epoch in range(1, NUM_EPOCHS + 1):\n",
        "            train_loss, train_accuracy, iter_num = .0, .0, .0\n",
        "            start_epoch_time = time.time()\n",
        "            self.model.train().to(device)\n",
        "            for x, y in train:\n",
        "                x = x.to(device)\n",
        "                y = y.view(1, -1).squeeze().to(device)\n",
        "\n",
        "                self.optimizer.zero_grad()\n",
        "\n",
        "                out = self.model.forward(x).view(-1, len(set(text)))\n",
        "\n",
        "                loss = self.loss_fn(out, y)\n",
        "                train_loss += loss.item()\n",
        "\n",
        "                batch_accuracy = (out.argmax(dim=1) == y)\n",
        "                train_accuracy += batch_accuracy.sum().item() / batch_accuracy.shape[0]\n",
        "\n",
        "                loss.backward()\n",
        "                self.optimizer.step()\n",
        "                iter_num += 1\n",
        "            if (epoch < 2) | (epoch % 5 == 0):\n",
        "                print(f\"Epoch: {epoch}, loss: {train_loss:.4f}, acc: \" f\"{train_accuracy / iter_num:.4f}\", end=\" | \")\n",
        "\n",
        "            test_loss, test_accuracy, iter_num = .0, .0, .0\n",
        "            self.model.eval().to(device)\n",
        "            for x, y in test:\n",
        "                x = x.to(device)\n",
        "                y = y.view(1, -1).squeeze().to(device)\n",
        "\n",
        "                out = self.model.forward(x).view(-1, len(set(text)))\n",
        "\n",
        "                loss = self.loss_fn(out, y)\n",
        "                test_loss += loss.item()\n",
        "\n",
        "                batch_accuracy = (out.argmax(dim=1) == y)\n",
        "                test_accuracy += batch_accuracy.sum().item() / batch_accuracy.shape[0]\n",
        "                iter_num += 1\n",
        "            if (epoch < 2) | (epoch % 5 == 0):\n",
        "                print(f\"test loss: {test_loss:.4f}, test acc: {test_accuracy / iter_num:.4f} | \" f\"{time.time() - start_epoch_time:.2f} sec.\")"
      ]
    },
    {
      "cell_type": "code",
      "execution_count": 22,
      "metadata": {
        "id": "dvUr6fNz7mpe"
      },
      "outputs": [],
      "source": [
        "text = reading_and_preprocessing('Fathers_and_Sons.txt')\n",
        "INDEX_TO_CHAR, CHAR_TO_INDEX = indexing_chars(text)\n",
        "train, test = create_dataset(text)"
      ]
    },
    {
      "cell_type": "code",
      "execution_count": 23,
      "metadata": {
        "colab": {
          "base_uri": "https://localhost:8080/"
        },
        "id": "7dlZL4iL7mpe",
        "outputId": "12a3f760-56d6-402e-e222-f96b5bf6cd0d"
      },
      "outputs": [
        {
          "output_type": "stream",
          "name": "stdout",
          "text": [
            "Epoch: 1, loss: 20.7042, acc: 0.9088 | test loss: 0.8724, test acc: 0.9960 | 9.93 sec.\n",
            "Epoch: 5, loss: 0.5595, acc: 0.9984 | test loss: 0.1283, test acc: 0.9982 | 0.40 sec.\n",
            "Epoch: 10, loss: 0.2140, acc: 0.9998 | test loss: 0.0521, test acc: 0.9998 | 0.47 sec.\n",
            "Epoch: 15, loss: 0.1183, acc: 1.0000 | test loss: 0.0296, test acc: 1.0000 | 0.41 sec.\n",
            "Epoch: 20, loss: 0.0795, acc: 1.0000 | test loss: 0.0200, test acc: 1.0000 | 0.47 sec.\n",
            "Epoch: 25, loss: 0.0595, acc: 1.0000 | test loss: 0.0152, test acc: 1.0000 | 0.39 sec.\n",
            "Epoch: 30, loss: 0.0475, acc: 1.0000 | test loss: 0.0121, test acc: 1.0000 | 0.63 sec.\n"
          ]
        }
      ],
      "source": [
        "model = RNN_Model()\n",
        "loss_fn = nn.CrossEntropyLoss()\n",
        "optimizer = torch.optim.SGD(model.parameters(), lr=LEARNING_RATE)\n",
        "training = Training(model, loss_fn, optimizer)\n",
        "training.train(train, test)"
      ]
    },
    {
      "cell_type": "code",
      "execution_count": 24,
      "metadata": {
        "colab": {
          "base_uri": "https://localhost:8080/"
        },
        "id": "JMDvj8Yy7mpf",
        "outputId": "d3492b37-667f-4e0d-c582-da0b3865dba2"
      },
      "outputs": [
        {
          "output_type": "stream",
          "name": "stdout",
          "text": [
            "Original sentence is : the quick brown fox jumps over the lazy dog\n",
            "----------------------------------------------------------------------------------------------------\n",
            "Encrypted sentence is : xli uymgo fvsar jsb nyqtw sziv xli pedc hsk\n",
            "----------------------------------------------------------------------------------------------------\n",
            "Decrypted sentence is : the quick brown fox jumps over the lazy dog\n",
            "----------------------------------------------------------------------------------------------------\n",
            "Accuracy is : 1.0\n"
          ]
        }
      ],
      "source": [
        "sentence = \"the quick brown fox jumps over the lazy dog\"\n",
        "alphabet, _ = indexing_chars(sentence)\n",
        "\n",
        "sentence_idx = char_to_index(sentence).to(device)\n",
        "\n",
        "encrypted_sentence = encryption(sentence, CAESAR_SHIFT)\n",
        "\n",
        "encrypted_sentence_idx = char_to_index(encrypted_sentence).to(device)\n",
        "\n",
        "result = model(encrypted_sentence_idx).argmax(dim=1)\n",
        "\n",
        "decrypted_sentence = index_to_char(result, alphabet)\n",
        "\n",
        "print(f\"Original sentence is : {sentence}\")\n",
        "print(\"-\" * 100)\n",
        "print(f\"Encrypted sentence is : {encrypted_sentence}\")\n",
        "print(\"-\" * 100)\n",
        "print(f\"Decrypted sentence is : {decrypted_sentence}\")\n",
        "print(\"-\" * 100)\n",
        "print(f\"Accuracy is : {(result == sentence_idx).sum().item() / (result == sentence_idx).shape[0]}\")"
      ]
    },
    {
      "cell_type": "code",
      "source": [],
      "metadata": {
        "id": "qQ6qFOLd_kON"
      },
      "execution_count": 24,
      "outputs": []
    }
  ],
  "metadata": {
    "kernelspec": {
      "display_name": "Python 3",
      "name": "python3"
    },
    "language_info": {
      "codemirror_mode": {
        "name": "ipython",
        "version": 3
      },
      "file_extension": ".py",
      "mimetype": "text/x-python",
      "name": "python",
      "nbconvert_exporter": "python",
      "pygments_lexer": "ipython3",
      "version": "3.11.4"
    },
    "orig_nbformat": 4,
    "colab": {
      "provenance": [],
      "gpuType": "T4"
    },
    "accelerator": "GPU"
  },
  "nbformat": 4,
  "nbformat_minor": 0
}